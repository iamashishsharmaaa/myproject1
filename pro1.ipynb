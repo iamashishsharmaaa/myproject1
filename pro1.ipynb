{
 "cells": [
  {
   "cell_type": "code",
   "execution_count": 19,
   "id": "855adf24-3b23-4ffa-b393-7f15028a421f",
   "metadata": {
    "tags": []
   },
   "outputs": [
    {
     "name": "stdin",
     "output_type": "stream",
     "text": [
      "enter how many student in the class 10\n",
      "enter the city dedun\n",
      "enter the course bca\n",
      "enter the batch 2023\n"
     ]
    },
    {
     "name": "stdout",
     "output_type": "stream",
     "text": [
      "['dedun-bca-2023-1006', 'dedun-bca-2023-1007', 'dedun-bca-2023-1010', 'dedun-bca-2023-1008', 'dedun-bca-2023-1004', 'dedun-bca-2023-1003', 'dedun-bca-2023-1002']\n"
     ]
    }
   ],
   "source": [
    "import random\n",
    "import tkinter as tk\n",
    "from tkinter import messagebox\n",
    "\n",
    "# Example roll number structure for a city\n",
    "def generate_roll_number(city, course, batch):\n",
    "    roll_number = f\"{city}-{course}-{batch}-{random.randint(1000, 1010)}\"\n",
    "    return roll_number\n",
    "\n",
    "rolln=list()\n",
    "student=int(input(\"enter how many student in the class\"))\n",
    "city=input(\"enter the city\")\n",
    "course = input(\"enter the course\")\n",
    "batch = int(input(\"enter the batch\"))\n",
    "for i in range (student):\n",
    "    roll_number = generate_roll_number(city, course, batch)\n",
    "    if roll_number in rolln:\n",
    "        continue\n",
    "    else:\n",
    "        rolln.append(roll_number)\n",
    "\n",
    "print(rolln)\n"
   ]
  },
  {
   "cell_type": "code",
   "execution_count": 9,
   "id": "c870b43f-eaae-48c5-9dd7-4abbe75c2e7e",
   "metadata": {
    "tags": []
   },
   "outputs": [],
   "source": [
    "import tkinter as tk\n",
    "from tkinter import messagebox\n",
    "import random\n",
    "\n",
    "def generate_roll_number():\n",
    "    city = city_entry.get()\n",
    "    course = course_entry.get()\n",
    "    batch = batch_entry.get()\n",
    "\n",
    "    if not city or not course or not batch:\n",
    "        messagebox.showerror(\"Error\", \"Please fill in all the fields.\")\n",
    "        return\n",
    "\n",
    "    # Generate roll number\n",
    "    roll_number = f\"{city.upper()}-{course.upper()}-{batch}-{random.randint(1000, 9999)}\"\n",
    "    messagebox.showinfo(\"Generated Roll \", f\"Generated Roll Number: {roll_number}\")\n",
    "\n",
    "# Create the main application window\n",
    "root = tk.Tk()\n",
    "root.title(\"Roll Number Generator\")\n",
    "\n",
    "# Create labels and entries for city, course, and batch\n",
    "tk.Label(root, text=\"City:\").grid(row=0, column=0)\n",
    "city_entry = tk.Entry(root)\n",
    "city_entry.grid(row=0, column=1)\n",
    "\n",
    "tk.Label(root, text=\"Course:\").grid(row=1, column=0)\n",
    "course_entry = tk.Entry(root)\n",
    "course_entry.grid(row=1, column=1)\n",
    "\n",
    "tk.Label(root, text=\"Batch:\").grid(row=2, column=0)\n",
    "batch_entry = tk.Entry(root)\n",
    "batch_entry.grid(row=2, column=1)\n",
    "\n",
    "# Button to generate the roll number\n",
    "generate_button = tk.Button(root, text=\"Generate Roll Number\", command=generate_roll_number)\n",
    "generate_button.grid(row=3, column=0, columnspan=4)\n",
    "\n",
    "# Run the main event loop\n",
    "\n",
    "root.mainloop()"
   ]
  },
  {
   "cell_type": "code",
   "execution_count": null,
   "id": "f0062b52-df01-4cf6-a118-d071704120a3",
   "metadata": {
    "tags": []
   },
   "outputs": [
    {
     "name": "stdin",
     "output_type": "stream",
     "text": [
      "enter how many student in the class 10\n",
      "enter the city dedun\n",
      "enter the course bca\n",
      "enter the batch 2023\n"
     ]
    },
    {
     "name": "stdout",
     "output_type": "stream",
     "text": [
      "['DEDUN-BCA-2023-4850', 'DEDUN-BCA-2023-6560', 'DEDUN-BCA-2023-9766', 'DEDUN-BCA-2023-2886', 'DEDUN-BCA-2023-4732', 'DEDUN-BCA-2023-6341', 'DEDUN-BCA-2023-5268', 'DEDUN-BCA-2023-7983', 'DEDUN-BCA-2023-3648', 'DEDUN-BCA-2023-9021']\n"
     ]
    }
   ],
   "source": [
    "import random\n",
    "import tkinter as tk\n",
    "from tkinter import messagebox\n",
    "\n",
    "# Example roll number structure for a city\n",
    "def generate_roll_number(city, course, batch):\n",
    "    roll_number = f\"{city.upper()}-{course.upper()}-{batch}-{random.randint(1000, 9999)}\"\n",
    "    return roll_number\n",
    "\n",
    "rolln=list()\n",
    "student=int(input(\"enter how many student in the class\"))\n",
    "city=input(\"enter the city\")\n",
    "course = input(\"enter the course\")\n",
    "batch = int(input(\"enter the batch\"))\n",
    "for i in range (student):\n",
    "    roll_number = generate_roll_number(city, course, batch)\n",
    "    if roll_number in rolln:\n",
    "        continue\n",
    "    else:\n",
    "        rolln.append(roll_number)\n",
    "\n",
    "print(rolln)\n",
    "messagebox.showinfo(\"Generated Roll \", f\"Generated Roll Number: {rolln}\")"
   ]
  },
  {
   "cell_type": "code",
   "execution_count": 5,
   "id": "b68b14ca-8f5e-42a5-95a2-f5c64af399a4",
   "metadata": {
    "tags": []
   },
   "outputs": [],
   "source": [
    "import tkinter as tk\n",
    "from tkinter import messagebox\n",
    "from openpyxl import Workbook\n",
    "import random\n",
    "\n",
    "def generate_roll_number():\n",
    "    city = city_entry.get()\n",
    "    course = course_entry.get()\n",
    "    batch = batch_entry.get()\n",
    "    student_strength = int(student_strength_entry.get())\n",
    "\n",
    "    if not city or not course or not batch or not student_strength:\n",
    "        messagebox.showerror(\"Error\", \"Please fill in all the fields.\")\n",
    "        return\n",
    "\n",
    "    # Generate roll numbers\n",
    "    roll_numbers = []\n",
    "    for i in range(1, student_strength + 1):\n",
    "        roll_number = f\"{city.upper()}-{course.upper()}-{batch}-{i:04d}\"\n",
    "        roll_numbers.append(roll_number)\n",
    "\n",
    "    # Save roll numbers to an Excel file\n",
    "    wb = Workbook()\n",
    "    sheet = wb.active\n",
    "    sheet.append([\"Roll Number\"])\n",
    "    for roll_number in roll_numbers:\n",
    "        sheet.append([roll_number])\n",
    "\n",
    "    file_name = f\"{city}_{course}_{batch}_roll_numbers.xlsx\"\n",
    "    wb.save(file_name)\n",
    "    messagebox.showinfo(\"File Saved\", f\"Generated roll numbers saved to {file_name}\")\n",
    "\n",
    "# Create the main application window\n",
    "root = tk.Tk()\n",
    "root.title(\"Roll Number Generator\")\n",
    "\n",
    "# Create labels and entries for city, course, batch, and student strength\n",
    "tk.Label(root, text=\"City:\").grid(row=0, column=0)\n",
    "city_entry = tk.Entry(root)\n",
    "city_entry.grid(row=0, column=1)\n",
    "\n",
    "tk.Label(root, text=\"Course:\").grid(row=1, column=0)\n",
    "course_entry = tk.Entry(root)\n",
    "course_entry.grid(row=1, column=1)\n",
    "\n",
    "tk.Label(root, text=\"Batch:\").grid(row=2, column=0)\n",
    "batch_entry = tk.Entry(root)\n",
    "batch_entry.grid(row=2, column=1)\n",
    "\n",
    "tk.Label(root, text=\"Student Strength:\").grid(row=3, column=0)\n",
    "student_strength_entry = tk.Entry(root)\n",
    "student_strength_entry.grid(row=3, column=1)\n",
    "\n",
    "# Button to generate the roll numbers and save to an Excel file\n",
    "generate_button = tk.Button(root, text=\"Generate Roll Numbers and Save\", command=generate_roll_number)\n",
    "generate_button.grid(row=4, column=0, columnspan=2)\n",
    "\n",
    "# Run the main event loop\n",
    "root.mainloop()\n"
   ]
  },
  {
   "cell_type": "code",
   "execution_count": null,
   "id": "531edb1c-24c1-4779-a83a-f44c935655be",
   "metadata": {
    "tags": []
   },
   "outputs": [],
   "source": [
    "import tkinter as tk\n",
    "from tkinter import messagebox\n",
    "from openpyxl import Workbook\n",
    "import random\n",
    "\n",
    "def generate_roll_number():\n",
    "    city = city_entry.get()\n",
    "    course = course_entry.get()\n",
    "    batch = batch_entry.get()\n",
    "    student_strength = int(student_strength_entry.get())\n",
    "\n",
    "    if not city or not course or not batch or not student_strength:\n",
    "        messagebox.showerror(\"Error\", \"Please fill in all the fields.\")\n",
    "        return\n",
    "\n",
    "    # Generate roll numbers\n",
    "    roll_numbers = []\n",
    "    for i in range(1, student_strength + 1):\n",
    "        roll_number = f\"{city.upper()}-{course.upper()}-{batch}-{i:04d}\"\n",
    "        roll_numbers.append(roll_number)\n",
    "\n",
    "    # Save roll numbers to an Excel file\n",
    "    wb = Workbook()\n",
    "    sheet = wb.active\n",
    "    sheet.append([\"Roll Number\"])\n",
    "    for roll_number in roll_numbers:\n",
    "        sheet.append([roll_number])\n",
    "\n",
    "    file_name = f\"{city}_{course}_{batch}_roll_numbers.xlsx\"\n",
    "    wb.save(file_name)\n",
    "    messagebox.showinfo(\"File Saved\", f\"Generated roll numbers saved to {file_name}\")\n",
    "\n",
    "# Create the main application window\n",
    "root = tk.Tk()\n",
    "root.title(\"Roll Number Generator\")\n",
    "\n",
    "# Create labels and entries for city, course, batch, and student strength\n",
    "tk.Label(root, text=\"CenterCode\").grid(row=0, column=0)\n",
    "city_entry = tk.Entry(root)\n",
    "city_entry.grid(row=0, column=1)\n",
    "\n",
    "tk.Label(root, text=\"Course:\").grid(row=1, column=0)\n",
    "course_entry = tk.Entry(root)\n",
    "course_entry.grid(row=1, column=1)\n",
    "\n",
    "tk.Label(root, text=\"Batch:\").grid(row=2, column=0)\n",
    "batch_entry = tk.Entry(root)\n",
    "batch_entry.grid(row=2, column=1)\n",
    "\n",
    "tk.Label(root, text=\"Student Strength:\").grid(row=3, column=0)\n",
    "student_strength_entry = tk.Entry(root)\n",
    "student_strength_entry.grid(row=3, column=1)\n",
    "\n",
    "# Button to generate the roll numbers and save to an Excel file\n",
    "generate_button = tk.Button(root, text=\"Generate Roll Numbers and Save\", command=generate_roll_number)\n",
    "generate_button.grid(row=4, column=0, columnspan=2)\n",
    "\n",
    "# Run the main event loop\n",
    "root.mainloop()\n"
   ]
  },
  {
   "cell_type": "code",
   "execution_count": null,
   "id": "a6dca553-d7b9-4c2b-9c68-ed423dae7339",
   "metadata": {},
   "outputs": [],
   "source": []
  }
 ],
 "metadata": {
  "kernelspec": {
   "display_name": "Python 3 (ipykernel)",
   "language": "python",
   "name": "python3"
  },
  "language_info": {
   "codemirror_mode": {
    "name": "ipython",
    "version": 3
   },
   "file_extension": ".py",
   "mimetype": "text/x-python",
   "name": "python",
   "nbconvert_exporter": "python",
   "pygments_lexer": "ipython3",
   "version": "3.11.4"
  }
 },
 "nbformat": 4,
 "nbformat_minor": 5
}
